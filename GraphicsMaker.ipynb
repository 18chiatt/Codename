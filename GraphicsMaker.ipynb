{
 "cells": [
  {
   "cell_type": "code",
   "execution_count": 1,
   "metadata": {},
   "outputs": [],
   "source": [
    "import matplotlib.pyplot as plt\n",
    "import CodeNames\n",
    "import numpy as np"
   ]
  },
  {
   "cell_type": "code",
   "execution_count": 2,
   "metadata": {},
   "outputs": [],
   "source": [
    "def makeCoolGraphic(word):\n",
    "    distances = [0 for _ in range(40)]\n",
    "    for otherWord in CodeNames.table.keys():\n",
    "        dis = CodeNames.wordDist(word, otherWord)\n",
    "        distances.append(dis)\n",
    "\n",
    "    plt.hist(distances)\n",
    "    plt.title(f\"Distance frequency vs. sigmoid score {word=}\")\n",
    "    plt.ylabel(\"Occurances\")\n",
    "    plt.xlabel(\"Rated Distance\")\n",
    "\n",
    "    x = np.linspace(0,15) \n",
    "    ys =  [CodeNames.confidencePercent(curr) * 40000 for curr in x]\n",
    "    h = plt.plot(x,ys, lw=2)"
   ]
  },
  {
   "cell_type": "code",
   "execution_count": null,
   "metadata": {},
   "outputs": [],
   "source": [
    "makeCoolGraphic(\"code\")"
   ]
  },
  {
   "cell_type": "code",
   "execution_count": null,
   "metadata": {},
   "outputs": [],
   "source": [
    "makeCoolGraphic('cheese')"
   ]
  },
  {
   "cell_type": "code",
   "execution_count": 4,
   "metadata": {},
   "outputs": [],
   "source": [
    "def printCompare(w1, w2):\n",
    "    print(f\"{w1}, {w2} => {CodeNames.confidencePercent(CodeNames.wordDist(w1, w2))}\")"
   ]
  }
 ],
 "metadata": {
  "interpreter": {
   "hash": "1257fc149e16d61c8b7f9ec7baf590246ecc74f2121a4119d148f3f93ca651a7"
  },
  "kernelspec": {
   "display_name": "Python 3.9.6 64-bit ('cs355env': conda)",
   "language": "python",
   "name": "python3"
  },
  "language_info": {
   "codemirror_mode": {
    "name": "ipython",
    "version": 3
   },
   "file_extension": ".py",
   "mimetype": "text/x-python",
   "name": "python",
   "nbconvert_exporter": "python",
   "pygments_lexer": "ipython3",
   "version": "3.9.6"
  },
  "orig_nbformat": 4
 },
 "nbformat": 4,
 "nbformat_minor": 2
}
